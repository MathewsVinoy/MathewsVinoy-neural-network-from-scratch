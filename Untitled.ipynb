{
 "cells": [
  {
   "cell_type": "code",
   "execution_count": 34,
   "id": "dce787ce-dfe4-496a-bca9-a9b680d8c07c",
   "metadata": {},
   "outputs": [],
   "source": [
    "import numpy as np"
   ]
  },
  {
   "cell_type": "code",
   "execution_count": 35,
   "id": "0da5bf15-9f6d-4f94-83be-fea7dd28990e",
   "metadata": {},
   "outputs": [],
   "source": [
    "class linear_layer:\n",
    "    def __init__(self,infeacher, outfeacher):\n",
    "        super(linear_layer, self).__init__()\n",
    "        self.W = np.random.rand(outfeacher, infeacher) *0.1\n",
    "        self.B = np.random.rand(outfeacher, 1) *0.1\n",
    "\n",
    "    def forward(self,x): \n",
    "        out = np.dot(self.W.T, x) + self.B\n",
    "        return out"
   ]
  },
  {
   "cell_type": "markdown",
   "id": "2e6ffccc-9337-44a5-ab54-c9ff0907502c",
   "metadata": {},
   "source": [
    "# this code from you tube for refarance\n",
    "```python\n",
    "class linear_layer:\n",
    "    def __init__(self,infeacher, outfeacher):\n",
    "        super(linear_layer, self).__init__()\n",
    "        self.W = np.random.rand(infeacher,outfeacher) *0.1\n",
    "        self.B = np.random.rand(1,outfeacher)\n",
    "\n",
    "    def forward(self,x): \n",
    "        out = np.dot(self.W.T, x) + self.B\n",
    "        return out\n",
    "\n",
    "```"
   ]
  },
  {
   "cell_type": "code",
   "execution_count": 36,
   "id": "4de2bf82-382b-4d54-bb65-4e9345ff64e3",
   "metadata": {},
   "outputs": [
    {
     "data": {
      "text/plain": [
       "(array([[0.38689435, 0.24122264]]), array([[0.5674, 0.6756]]))"
      ]
     },
     "execution_count": 36,
     "metadata": {},
     "output_type": "execute_result"
    }
   ],
   "source": [
    "input = np.random.rand(1,2)\n",
    "result = np.array([[0.5674,0.6756]])\n",
    "input, result"
   ]
  },
  {
   "cell_type": "code",
   "execution_count": 37,
   "id": "f63df900-6c19-4802-ba65-16f0853cbccf",
   "metadata": {},
   "outputs": [
    {
     "data": {
      "text/plain": [
       "array([[0.07866114, 0.07518092],\n",
       "       [0.0988851 , 0.08779024]])"
      ]
     },
     "execution_count": 37,
     "metadata": {},
     "output_type": "execute_result"
    }
   ],
   "source": [
    "linear = linear_layer(2,1)\n",
    "out = linear.forward(input)\n",
    "out"
   ]
  },
  {
   "cell_type": "markdown",
   "id": "c7fd04e2-a70b-4aa5-9fd5-fa4f3fa458a5",
   "metadata": {},
   "source": [
    "# Loss Function\n",
    "This the equation for the cross entropy loss"
   ]
  },
  {
   "cell_type": "code",
   "execution_count": 38,
   "id": "0907f865-9a51-4cda-92ae-823286fd6304",
   "metadata": {},
   "outputs": [],
   "source": [
    "def loss_fn(pred, result):\n",
    "    loss = -(result * np.log(pred) + (1-result) * np.log(1-pred))\n",
    "    return loss.mean()"
   ]
  },
  {
   "cell_type": "code",
   "execution_count": 58,
   "id": "d865c5a3-fe5c-4993-aefc-a1fb02d7f57f",
   "metadata": {},
   "outputs": [],
   "source": [
    "class Loss:\n",
    "    def calcuate(self, output, result):\n",
    "        sample_loss = self.forward(output, result)\n",
    "        data_loss = np.mean(sample_loss)\n",
    "        return data_loss\n",
    "\n",
    "class Loss_cCrossentropy(Loss):\n",
    "    def forward(self, y_pred, y_true):\n",
    "        samples = len(y_pred)\n",
    "        y_pred_clipped = np.clip(y_pred, 1e-7, 1-1e-7)\n",
    "        if len(y_true.shape)==1:\n",
    "            correct_confidences = y_pred_clipped[range(samples), y_true]\n",
    "        elif len(y_true.shape)==2:\n",
    "            correct_confidences = np.sum( y_pred_clipped*y_true, axis=1)\n",
    "        negative_log= -np.log(correct_confidences)\n",
    "        return negative_log"
   ]
  },
  {
   "cell_type": "code",
   "execution_count": 40,
   "id": "d68fa528-8f01-47df-9ebf-a6206eb51b3e",
   "metadata": {},
   "outputs": [
    {
     "data": {
      "text/plain": [
       "1.5707824036263605"
      ]
     },
     "execution_count": 40,
     "metadata": {},
     "output_type": "execute_result"
    }
   ],
   "source": [
    "loss = loss_fn(out,result)\n",
    "loss"
   ]
  },
  {
   "cell_type": "markdown",
   "id": "52d422f5-bb28-4291-86d2-4b8601e74374",
   "metadata": {},
   "source": [
    "# Converting To `Batches` \n",
    "It is verry importent"
   ]
  },
  {
   "cell_type": "markdown",
   "id": "ca34e63a-54bc-4167-950d-fcd73a296d9d",
   "metadata": {},
   "source": [
    "#### Relu"
   ]
  },
  {
   "cell_type": "code",
   "execution_count": 41,
   "id": "01fcb221-56ee-472c-aa30-d36dbad870c7",
   "metadata": {},
   "outputs": [
    {
     "data": {
      "text/plain": [
       "[0, 2, 0, 3.3, 2.7, 1.1, 2.2, 0]"
      ]
     },
     "execution_count": 41,
     "metadata": {},
     "output_type": "execute_result"
    }
   ],
   "source": [
    "#refenancing from youtube and non linear\n",
    "#converting this to numpy \n",
    "inputs = [0,2,-1,3.3,2.7,1.1,2.2,-100]\n",
    "outputs=[]\n",
    "for i in inputs:\n",
    "    outputs.append(max(0,i))\n",
    "outputs"
   ]
  },
  {
   "cell_type": "markdown",
   "id": "b3eaaa71-733d-42c4-b52e-6f5e910fe18d",
   "metadata": {},
   "source": [
    "##### Softmax "
   ]
  },
  {
   "cell_type": "code",
   "execution_count": 42,
   "id": "1ba7b62d-d47a-42f5-b2ad-d93ed4a00cf0",
   "metadata": {},
   "outputs": [
    {
     "data": {
      "text/plain": [
       "2.718281828459045"
      ]
     },
     "execution_count": 42,
     "metadata": {},
     "output_type": "execute_result"
    }
   ],
   "source": [
    "import math\n",
    "math.e"
   ]
  },
  {
   "cell_type": "code",
   "execution_count": 43,
   "id": "81e0af73-3f36-4603-bb50-0a5fd0b7ff78",
   "metadata": {},
   "outputs": [
    {
     "data": {
      "text/plain": [
       "[1.0,\n",
       " 7.3890560989306495,\n",
       " 0.36787944117144233,\n",
       " 27.11263892065788,\n",
       " 14.879731724872835,\n",
       " 3.0041660239464334,\n",
       " 9.025013499434122,\n",
       " 3.7200759760208555e-44]"
      ]
     },
     "execution_count": 43,
     "metadata": {},
     "output_type": "execute_result"
    }
   ],
   "source": [
    "\n",
    "inputs = [0,2,-1,3.3,2.7,1.1,2.2,-100]\n",
    "outputs=[]\n",
    "for i in inputs:\n",
    "    outputs.append(math.e**i)\n",
    "outputs"
   ]
  },
  {
   "cell_type": "code",
   "execution_count": 44,
   "id": "1eb65b99-38c0-46c6-8adc-024185c4a31b",
   "metadata": {},
   "outputs": [
    {
     "data": {
      "text/plain": [
       "(1.0,\n",
       " [0.015929023911712893,\n",
       "  0.1177004512848543,\n",
       "  0.005859960415047482,\n",
       "  0.43187787367679703,\n",
       "  0.23701960244537235,\n",
       "  0.04785343243019819,\n",
       "  0.1437596558360178,\n",
       "  5.925717917542489e-46])"
      ]
     },
     "execution_count": 44,
     "metadata": {},
     "output_type": "execute_result"
    }
   ],
   "source": [
    "norm_base =sum(outputs)\n",
    "main_out = []\n",
    "for v in outputs:\n",
    "    main_out.append(v / norm_base)\n",
    "\n",
    "sum(main_out), main_out"
   ]
  },
  {
   "cell_type": "code",
   "execution_count": 56,
   "id": "148c79b8-82b3-49a4-8437-346403e3d54e",
   "metadata": {},
   "outputs": [
    {
     "data": {
      "text/plain": [
       "(3, 8)"
      ]
     },
     "execution_count": 56,
     "metadata": {},
     "output_type": "execute_result"
    }
   ],
   "source": [
    "inputs =[[0,2,-1,3.3,2.7,1.1,2.2,-100],[0,2,-1,3.3,2.7,1.1,2.2,-100],[0,2,-1,3.3,2.7,1.1,2.2,-100]]\n",
    "inputs = np.array(inputs)\n",
    "inputs.shape"
   ]
  },
  {
   "cell_type": "code",
   "execution_count": 57,
   "id": "c49a6728-5672-4afa-a8fb-c3ad4ccfd38c",
   "metadata": {},
   "outputs": [
    {
     "data": {
      "text/plain": [
       "(array([[3.68831674e-02, 2.72531793e-01, 1.35685590e-02, 1.00000000e+00,\n",
       "         5.48811636e-01, 1.10803158e-01, 3.32871084e-01, 1.37208185e-45],\n",
       "        [3.68831674e-02, 2.72531793e-01, 1.35685590e-02, 1.00000000e+00,\n",
       "         5.48811636e-01, 1.10803158e-01, 3.32871084e-01, 1.37208185e-45],\n",
       "        [3.68831674e-02, 2.72531793e-01, 1.35685590e-02, 1.00000000e+00,\n",
       "         5.48811636e-01, 1.10803158e-01, 3.32871084e-01, 1.37208185e-45]]),\n",
       " array([[1.59290239e-02, 1.17700451e-01, 5.85996042e-03, 4.31877874e-01,\n",
       "         2.37019602e-01, 4.78534324e-02, 1.43759656e-01, 5.92571792e-46],\n",
       "        [1.59290239e-02, 1.17700451e-01, 5.85996042e-03, 4.31877874e-01,\n",
       "         2.37019602e-01, 4.78534324e-02, 1.43759656e-01, 5.92571792e-46],\n",
       "        [1.59290239e-02, 1.17700451e-01, 5.85996042e-03, 4.31877874e-01,\n",
       "         2.37019602e-01, 4.78534324e-02, 1.43759656e-01, 5.92571792e-46]]))"
      ]
     },
     "execution_count": 57,
     "metadata": {},
     "output_type": "execute_result"
    }
   ],
   "source": [
    "exp_values = np.exp(inputs - np.max(inputs, axis=1, keepdims=True))\n",
    "norm_values = exp_values/np.sum(exp_values, axis=1, keepdims=True)# WHEN IMPLEMENTING THIS USE AXIS AS 1\n",
    "exp_values,  norm_values"
   ]
  },
  {
   "cell_type": "code",
   "execution_count": null,
   "id": "a7c1477a-c1de-48fd-b3fe-cb2c0e851621",
   "metadata": {},
   "outputs": [],
   "source": [
    "import numpy as np\n",
    "\n",
    "# Sigmoid activation function and its derivative\n",
    "def sigmoid(x):\n",
    "    return 1 / (1 + np.exp(-x))\n",
    "\n",
    "def sigmoid_derivative(x):\n",
    "    return x * (1 - x)\n",
    "\n",
    "# Mean Squared Error loss function\n",
    "def mse_loss(y_true, y_pred):\n",
    "    return ((y_true - y_pred) ** 2).mean()\n",
    "\n",
    "# Initialize parameters\n",
    "def initialize_parameters(n_x, n_h, n_y):\n",
    "    W1 = np.random.randn(n_h, n_x) * 0.01\n",
    "    b1 = np.zeros((n_h, 1))\n",
    "    W2 = np.random.randn(n_y, n_h) * 0.01\n",
    "    b2 = np.zeros((n_y, 1))\n",
    "    return W1, b1, W2, b2\n",
    "\n",
    "# Forward propagation\n",
    "def forward_propagation(X, W1, b1, W2, b2):\n",
    "    Z1 = np.dot(W1, X) + b1\n",
    "    A1 = sigmoid(Z1)\n",
    "    Z2 = np.dot(W2, A1) + b2\n",
    "    A2 = sigmoid(Z2)\n",
    "    return A1, A2\n",
    "\n",
    "# Backward propagation\n",
    "def backward_propagation(X, Y, A1, A2, W1, W2):\n",
    "    m = X.shape[1]\n",
    "\n",
    "    dZ2 = A2 - Y\n",
    "    dW2 = (1/m) * np.dot(dZ2, A1.T)\n",
    "    db2 = (1/m) * np.sum(dZ2, axis=1, keepdims=True)\n",
    "\n",
    "    dZ1 = np.dot(W2.T, dZ2) * sigmoid_derivative(A1)\n",
    "    dW1 = (1/m) * np.dot(dZ1, X.T)\n",
    "    db1 = (1/m) * np.sum(dZ1, axis=1, keepdims=True)\n",
    "\n",
    "    return dW1, db1, dW2, db2\n",
    "\n",
    "# Update parameters\n",
    "def update_parameters(W1, b1, W2, b2, dW1, db1, dW2, db2, learning_rate):\n",
    "    W1 -= learning_rate * dW1\n",
    "    b1 -= learning_rate * db1\n",
    "    W2 -= learning_rate * dW2\n",
    "    b2 -= learning_rate * db2\n",
    "    return W1, b1, W2, b2\n",
    "\n",
    "# Training the model\n",
    "def train(X, Y, n_x, n_h, n_y, learning_rate=0.01, num_iterations=10000):\n",
    "    W1, b1, W2, b2 = initialize_parameters(n_x, n_h, n_y)\n",
    "\n",
    "    for i in range(num_iterations):\n",
    "        A1, A2 = forward_propagation(X, W1, b1, W2, b2)\n",
    "        loss = mse_loss(Y, A2)\n",
    "        dW1, db1, dW2, db2 = backward_propagation(X, Y, A1, A2, W1, W2)\n",
    "        W1, b1, W2, b2 = update_parameters(W1, b1, W2, b2, dW1, db1, dW2, db2, learning_rate)\n",
    "\n",
    "        if i % 1000 == 0:\n",
    "            print(f\"Iteration {i}, Loss: {loss}\")\n",
    "\n",
    "    return W1, b1, W2, b2\n",
    "\n",
    "# Example usage\n",
    "if __name__ == \"__main__\":\n",
    "    # Example data\n",
    "    X = np.array([[0, 0, 1, 1],\n",
    "                  [0, 1, 0, 1]]).T\n",
    "    Y = np.array([[0, 1, 1, 0]]).T\n",
    "\n",
    "    n_x = X.shape[0]\n",
    "    n_h = 4\n",
    "    n_y = Y.shape[0]\n",
    "\n",
    "    W1, b1, W2, b2 = train(X, Y, n_x, n_h, n_y, learning_rate=0.1, num_iterations=10000)\n",
    "\n",
    "    # Test the model\n",
    "    A1, A2 = forward_propagation(X, W1, b1, W2, b2)\n",
    "    print(\"Predictions:\", A2)\n"
   ]
  }
 ],
 "metadata": {
  "kernelspec": {
   "display_name": "Python 3 (ipykernel)",
   "language": "python",
   "name": "python3"
  },
  "language_info": {
   "codemirror_mode": {
    "name": "ipython",
    "version": 3
   },
   "file_extension": ".py",
   "mimetype": "text/x-python",
   "name": "python",
   "nbconvert_exporter": "python",
   "pygments_lexer": "ipython3",
   "version": "3.11.7"
  }
 },
 "nbformat": 4,
 "nbformat_minor": 5
}
